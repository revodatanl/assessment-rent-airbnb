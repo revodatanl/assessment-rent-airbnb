{
 "cells": [
  {
   "cell_type": "code",
   "execution_count": 15,
   "metadata": {},
   "outputs": [],
   "source": [
    "import os\n",
    "import sys\n",
    "import geopandas as gpd\n",
    "import pandas as pd\n",
    "import pyspark.sql.functions as F\n",
    "from pyspark.sql.functions import col, split, when, regexp_extract, round, regexp_replace, format_number\n",
    "from pyspark.sql.types import StringType\n",
    "from shapely.geometry import Point\n",
    "\n",
    "sys.path.append('/home/jiayin/assessment-rent-airbnb/src')\n",
    "\n",
    "from bronze.ingestion import ingest_data\n",
    "from silver.cleaning import get_cleaned_df\n",
    "from gold.aggregation import get_avg_rev"
   ]
  },
  {
   "cell_type": "code",
   "execution_count": 16,
   "metadata": {},
   "outputs": [
    {
     "name": "stderr",
     "output_type": "stream",
     "text": [
      "24/11/04 19:29:43 WARN Utils: Your hostname, PC05775 resolves to a loopback address: 127.0.1.1; using 172.21.36.156 instead (on interface eth0)\n",
      "24/11/04 19:29:43 WARN Utils: Set SPARK_LOCAL_IP if you need to bind to another address\n",
      "Setting default log level to \"WARN\".\n",
      "To adjust logging level use sc.setLogLevel(newLevel). For SparkR, use setLogLevel(newLevel).\n",
      "24/11/04 19:29:43 WARN NativeCodeLoader: Unable to load native-hadoop library for your platform... using builtin-java classes where applicable\n",
      "/home/jiayin/.local/lib/python3.8/site-packages/pandas/core/dtypes/cast.py:130: ShapelyDeprecationWarning: The array interface is deprecated and will no longer work in Shapely 2.0. Convert the '.coords' to a numpy array instead.\n",
      "  arr = construct_1d_object_array_from_listlike(values)\n"
     ]
    },
    {
     "ename": "DriverError",
     "evalue": "../../data/geo/post_codes.geojson: No such file or directory",
     "output_type": "error",
     "traceback": [
      "\u001b[0;31m---------------------------------------------------------------------------\u001b[0m",
      "\u001b[0;31mCPLE_OpenFailedError\u001b[0m                      Traceback (most recent call last)",
      "File \u001b[0;32mfiona/ogrext.pyx:136\u001b[0m, in \u001b[0;36mfiona.ogrext.gdal_open_vector\u001b[0;34m()\u001b[0m\n",
      "File \u001b[0;32mfiona/_err.pyx:291\u001b[0m, in \u001b[0;36mfiona._err.exc_wrap_pointer\u001b[0;34m()\u001b[0m\n",
      "\u001b[0;31mCPLE_OpenFailedError\u001b[0m: ../../data/geo/post_codes.geojson: No such file or directory",
      "\nDuring handling of the above exception, another exception occurred:\n",
      "\u001b[0;31mDriverError\u001b[0m                               Traceback (most recent call last)",
      "Cell \u001b[0;32mIn[16], line 4\u001b[0m\n\u001b[1;32m      1\u001b[0m \u001b[38;5;28;01mif\u001b[39;00m \u001b[38;5;18m__name__\u001b[39m \u001b[38;5;241m==\u001b[39m \u001b[38;5;124m\"\u001b[39m\u001b[38;5;124m__main__\u001b[39m\u001b[38;5;124m\"\u001b[39m:\n\u001b[1;32m      2\u001b[0m     \u001b[38;5;66;03m# ingest_data()\u001b[39;00m\n\u001b[0;32m----> 4\u001b[0m     airbnb_cleaned \u001b[38;5;241m=\u001b[39m \u001b[43mget_cleaned_df\u001b[49m\u001b[43m(\u001b[49m\u001b[38;5;124;43m'\u001b[39;49m\u001b[38;5;124;43m../../data/airbnb.csv\u001b[39;49m\u001b[38;5;124;43m'\u001b[39;49m\u001b[43m)\u001b[49m\n\u001b[1;32m      5\u001b[0m     rentals_cleaned \u001b[38;5;241m=\u001b[39m get_cleaned_df(\u001b[38;5;124m'\u001b[39m\u001b[38;5;124m../../data/rentals.json\u001b[39m\u001b[38;5;124m'\u001b[39m)\n\u001b[1;32m      6\u001b[0m     rentals_rev \u001b[38;5;241m=\u001b[39m get_avg_rev(rentals_cleaned, \u001b[38;5;124m'\u001b[39m\u001b[38;5;124mavg_rev_rentals\u001b[39m\u001b[38;5;124m'\u001b[39m, \u001b[38;5;124m'\u001b[39m\u001b[38;5;124mrent\u001b[39m\u001b[38;5;124m'\u001b[39m)\n",
      "File \u001b[0;32m~/assessment-rent-airbnb/scratch/../src/silver/cleaning.py:15\u001b[0m, in \u001b[0;36mget_cleaned_df\u001b[0;34m(file_path)\u001b[0m\n\u001b[1;32m     13\u001b[0m \u001b[38;5;66;03m# airbnb\u001b[39;00m\n\u001b[1;32m     14\u001b[0m \u001b[38;5;28;01melif\u001b[39;00m file_path\u001b[38;5;241m.\u001b[39mendswith(\u001b[38;5;124m'\u001b[39m\u001b[38;5;124m.csv\u001b[39m\u001b[38;5;124m'\u001b[39m):\n\u001b[0;32m---> 15\u001b[0m     df \u001b[38;5;241m=\u001b[39m \u001b[43menhance_zipcode\u001b[49m\u001b[43m(\u001b[49m\u001b[43mfile_path\u001b[49m\u001b[43m,\u001b[49m\u001b[43m \u001b[49m\u001b[43mspark\u001b[49m\u001b[43m)\u001b[49m\n\u001b[1;32m     16\u001b[0m     df \u001b[38;5;241m=\u001b[39m get_cleaned_airbnb(df)\n\u001b[1;32m     17\u001b[0m \u001b[38;5;28;01mreturn\u001b[39;00m df\n",
      "File \u001b[0;32m~/assessment-rent-airbnb/scratch/../src/silver/airbnb_cleaning.py:20\u001b[0m, in \u001b[0;36menhance_zipcode\u001b[0;34m(airbnb_file, spark)\u001b[0m\n\u001b[1;32m     17\u001b[0m airbnb_gdf \u001b[38;5;241m=\u001b[39m airbnb_gdf\u001b[38;5;241m.\u001b[39mto_crs(\u001b[38;5;124m\"\u001b[39m\u001b[38;5;124mEPSG:28992\u001b[39m\u001b[38;5;124m\"\u001b[39m)\n\u001b[1;32m     19\u001b[0m \u001b[38;5;66;03m# Load and ensure the postcode data uses the same CRS (EPSG:28992)\u001b[39;00m\n\u001b[0;32m---> 20\u001b[0m post_codes \u001b[38;5;241m=\u001b[39m \u001b[43mgpd\u001b[49m\u001b[38;5;241;43m.\u001b[39;49m\u001b[43mread_file\u001b[49m\u001b[43m(\u001b[49m\u001b[38;5;124;43m\"\u001b[39;49m\u001b[38;5;124;43m../../data/geo/post_codes.geojson\u001b[39;49m\u001b[38;5;124;43m\"\u001b[39;49m\u001b[43m)\u001b[49m\n\u001b[1;32m     21\u001b[0m postcode_df \u001b[38;5;241m=\u001b[39m post_codes\u001b[38;5;241m.\u001b[39mto_crs(\u001b[38;5;124m\"\u001b[39m\u001b[38;5;124mEPSG:28992\u001b[39m\u001b[38;5;124m\"\u001b[39m)\n\u001b[1;32m     23\u001b[0m \u001b[38;5;66;03m# Perform spatial join with `within` operation\u001b[39;00m\n",
      "File \u001b[0;32m~/.local/lib/python3.8/site-packages/geopandas/io/file.py:281\u001b[0m, in \u001b[0;36m_read_file\u001b[0;34m(filename, bbox, mask, rows, engine, **kwargs)\u001b[0m\n\u001b[1;32m    278\u001b[0m     \u001b[38;5;28;01melse\u001b[39;00m:\n\u001b[1;32m    279\u001b[0m         path_or_bytes \u001b[38;5;241m=\u001b[39m filename\n\u001b[0;32m--> 281\u001b[0m     \u001b[38;5;28;01mreturn\u001b[39;00m \u001b[43m_read_file_fiona\u001b[49m\u001b[43m(\u001b[49m\n\u001b[1;32m    282\u001b[0m \u001b[43m        \u001b[49m\u001b[43mpath_or_bytes\u001b[49m\u001b[43m,\u001b[49m\u001b[43m \u001b[49m\u001b[43mfrom_bytes\u001b[49m\u001b[43m,\u001b[49m\u001b[43m \u001b[49m\u001b[43mbbox\u001b[49m\u001b[38;5;241;43m=\u001b[39;49m\u001b[43mbbox\u001b[49m\u001b[43m,\u001b[49m\u001b[43m \u001b[49m\u001b[43mmask\u001b[49m\u001b[38;5;241;43m=\u001b[39;49m\u001b[43mmask\u001b[49m\u001b[43m,\u001b[49m\u001b[43m \u001b[49m\u001b[43mrows\u001b[49m\u001b[38;5;241;43m=\u001b[39;49m\u001b[43mrows\u001b[49m\u001b[43m,\u001b[49m\u001b[43m \u001b[49m\u001b[38;5;241;43m*\u001b[39;49m\u001b[38;5;241;43m*\u001b[39;49m\u001b[43mkwargs\u001b[49m\n\u001b[1;32m    283\u001b[0m \u001b[43m    \u001b[49m\u001b[43m)\u001b[49m\n\u001b[1;32m    285\u001b[0m \u001b[38;5;28;01melse\u001b[39;00m:\n\u001b[1;32m    286\u001b[0m     \u001b[38;5;28;01mraise\u001b[39;00m \u001b[38;5;167;01mValueError\u001b[39;00m(\u001b[38;5;124mf\u001b[39m\u001b[38;5;124m\"\u001b[39m\u001b[38;5;124munknown engine \u001b[39m\u001b[38;5;124m'\u001b[39m\u001b[38;5;132;01m{\u001b[39;00mengine\u001b[38;5;132;01m}\u001b[39;00m\u001b[38;5;124m'\u001b[39m\u001b[38;5;124m\"\u001b[39m)\n",
      "File \u001b[0;32m~/.local/lib/python3.8/site-packages/geopandas/io/file.py:322\u001b[0m, in \u001b[0;36m_read_file_fiona\u001b[0;34m(path_or_bytes, from_bytes, bbox, mask, rows, where, **kwargs)\u001b[0m\n\u001b[1;32m    319\u001b[0m     reader \u001b[38;5;241m=\u001b[39m fiona\u001b[38;5;241m.\u001b[39mopen\n\u001b[1;32m    321\u001b[0m \u001b[38;5;28;01mwith\u001b[39;00m fiona_env():\n\u001b[0;32m--> 322\u001b[0m     \u001b[38;5;28;01mwith\u001b[39;00m \u001b[43mreader\u001b[49m\u001b[43m(\u001b[49m\u001b[43mpath_or_bytes\u001b[49m\u001b[43m,\u001b[49m\u001b[43m \u001b[49m\u001b[38;5;241;43m*\u001b[39;49m\u001b[38;5;241;43m*\u001b[39;49m\u001b[43mkwargs\u001b[49m\u001b[43m)\u001b[49m \u001b[38;5;28;01mas\u001b[39;00m features:\n\u001b[1;32m    323\u001b[0m         crs \u001b[38;5;241m=\u001b[39m features\u001b[38;5;241m.\u001b[39mcrs_wkt\n\u001b[1;32m    324\u001b[0m         \u001b[38;5;66;03m# attempt to get EPSG code\u001b[39;00m\n",
      "File \u001b[0;32m~/.local/lib/python3.8/site-packages/fiona/env.py:457\u001b[0m, in \u001b[0;36mensure_env_with_credentials.<locals>.wrapper\u001b[0;34m(*args, **kwds)\u001b[0m\n\u001b[1;32m    454\u001b[0m     session \u001b[38;5;241m=\u001b[39m DummySession()\n\u001b[1;32m    456\u001b[0m \u001b[38;5;28;01mwith\u001b[39;00m env_ctor(session\u001b[38;5;241m=\u001b[39msession):\n\u001b[0;32m--> 457\u001b[0m     \u001b[38;5;28;01mreturn\u001b[39;00m \u001b[43mf\u001b[49m\u001b[43m(\u001b[49m\u001b[38;5;241;43m*\u001b[39;49m\u001b[43margs\u001b[49m\u001b[43m,\u001b[49m\u001b[43m \u001b[49m\u001b[38;5;241;43m*\u001b[39;49m\u001b[38;5;241;43m*\u001b[39;49m\u001b[43mkwds\u001b[49m\u001b[43m)\u001b[49m\n",
      "File \u001b[0;32m~/.local/lib/python3.8/site-packages/fiona/__init__.py:292\u001b[0m, in \u001b[0;36mopen\u001b[0;34m(fp, mode, driver, schema, crs, encoding, layer, vfs, enabled_drivers, crs_wkt, allow_unsupported_drivers, **kwargs)\u001b[0m\n\u001b[1;32m    289\u001b[0m     path \u001b[38;5;241m=\u001b[39m parse_path(fp)\n\u001b[1;32m    291\u001b[0m \u001b[38;5;28;01mif\u001b[39;00m mode \u001b[38;5;129;01min\u001b[39;00m (\u001b[38;5;124m\"\u001b[39m\u001b[38;5;124ma\u001b[39m\u001b[38;5;124m\"\u001b[39m, \u001b[38;5;124m\"\u001b[39m\u001b[38;5;124mr\u001b[39m\u001b[38;5;124m\"\u001b[39m):\n\u001b[0;32m--> 292\u001b[0m     colxn \u001b[38;5;241m=\u001b[39m \u001b[43mCollection\u001b[49m\u001b[43m(\u001b[49m\n\u001b[1;32m    293\u001b[0m \u001b[43m        \u001b[49m\u001b[43mpath\u001b[49m\u001b[43m,\u001b[49m\n\u001b[1;32m    294\u001b[0m \u001b[43m        \u001b[49m\u001b[43mmode\u001b[49m\u001b[43m,\u001b[49m\n\u001b[1;32m    295\u001b[0m \u001b[43m        \u001b[49m\u001b[43mdriver\u001b[49m\u001b[38;5;241;43m=\u001b[39;49m\u001b[43mdriver\u001b[49m\u001b[43m,\u001b[49m\n\u001b[1;32m    296\u001b[0m \u001b[43m        \u001b[49m\u001b[43mencoding\u001b[49m\u001b[38;5;241;43m=\u001b[39;49m\u001b[43mencoding\u001b[49m\u001b[43m,\u001b[49m\n\u001b[1;32m    297\u001b[0m \u001b[43m        \u001b[49m\u001b[43mlayer\u001b[49m\u001b[38;5;241;43m=\u001b[39;49m\u001b[43mlayer\u001b[49m\u001b[43m,\u001b[49m\n\u001b[1;32m    298\u001b[0m \u001b[43m        \u001b[49m\u001b[43menabled_drivers\u001b[49m\u001b[38;5;241;43m=\u001b[39;49m\u001b[43menabled_drivers\u001b[49m\u001b[43m,\u001b[49m\n\u001b[1;32m    299\u001b[0m \u001b[43m        \u001b[49m\u001b[43mallow_unsupported_drivers\u001b[49m\u001b[38;5;241;43m=\u001b[39;49m\u001b[43mallow_unsupported_drivers\u001b[49m\u001b[43m,\u001b[49m\n\u001b[1;32m    300\u001b[0m \u001b[43m        \u001b[49m\u001b[38;5;241;43m*\u001b[39;49m\u001b[38;5;241;43m*\u001b[39;49m\u001b[43mkwargs\u001b[49m\n\u001b[1;32m    301\u001b[0m \u001b[43m    \u001b[49m\u001b[43m)\u001b[49m\n\u001b[1;32m    302\u001b[0m \u001b[38;5;28;01melif\u001b[39;00m mode \u001b[38;5;241m==\u001b[39m \u001b[38;5;124m\"\u001b[39m\u001b[38;5;124mw\u001b[39m\u001b[38;5;124m\"\u001b[39m:\n\u001b[1;32m    303\u001b[0m     colxn \u001b[38;5;241m=\u001b[39m Collection(\n\u001b[1;32m    304\u001b[0m         path,\n\u001b[1;32m    305\u001b[0m         mode,\n\u001b[0;32m   (...)\u001b[0m\n\u001b[1;32m    314\u001b[0m         \u001b[38;5;241m*\u001b[39m\u001b[38;5;241m*\u001b[39mkwargs\n\u001b[1;32m    315\u001b[0m     )\n",
      "File \u001b[0;32m~/.local/lib/python3.8/site-packages/fiona/collection.py:243\u001b[0m, in \u001b[0;36mCollection.__init__\u001b[0;34m(self, path, mode, driver, schema, crs, encoding, layer, vsi, archive, enabled_drivers, crs_wkt, ignore_fields, ignore_geometry, include_fields, wkt_version, allow_unsupported_drivers, **kwargs)\u001b[0m\n\u001b[1;32m    241\u001b[0m \u001b[38;5;28;01mif\u001b[39;00m \u001b[38;5;28mself\u001b[39m\u001b[38;5;241m.\u001b[39mmode \u001b[38;5;241m==\u001b[39m \u001b[38;5;124m\"\u001b[39m\u001b[38;5;124mr\u001b[39m\u001b[38;5;124m\"\u001b[39m:\n\u001b[1;32m    242\u001b[0m     \u001b[38;5;28mself\u001b[39m\u001b[38;5;241m.\u001b[39msession \u001b[38;5;241m=\u001b[39m Session()\n\u001b[0;32m--> 243\u001b[0m     \u001b[38;5;28;43mself\u001b[39;49m\u001b[38;5;241;43m.\u001b[39;49m\u001b[43msession\u001b[49m\u001b[38;5;241;43m.\u001b[39;49m\u001b[43mstart\u001b[49m\u001b[43m(\u001b[49m\u001b[38;5;28;43mself\u001b[39;49m\u001b[43m,\u001b[49m\u001b[43m \u001b[49m\u001b[38;5;241;43m*\u001b[39;49m\u001b[38;5;241;43m*\u001b[39;49m\u001b[43mkwargs\u001b[49m\u001b[43m)\u001b[49m\n\u001b[1;32m    244\u001b[0m \u001b[38;5;28;01melif\u001b[39;00m \u001b[38;5;28mself\u001b[39m\u001b[38;5;241m.\u001b[39mmode \u001b[38;5;129;01min\u001b[39;00m (\u001b[38;5;124m\"\u001b[39m\u001b[38;5;124ma\u001b[39m\u001b[38;5;124m\"\u001b[39m, \u001b[38;5;124m\"\u001b[39m\u001b[38;5;124mw\u001b[39m\u001b[38;5;124m\"\u001b[39m):\n\u001b[1;32m    245\u001b[0m     \u001b[38;5;28mself\u001b[39m\u001b[38;5;241m.\u001b[39msession \u001b[38;5;241m=\u001b[39m WritingSession()\n",
      "File \u001b[0;32mfiona/ogrext.pyx:588\u001b[0m, in \u001b[0;36mfiona.ogrext.Session.start\u001b[0;34m()\u001b[0m\n",
      "File \u001b[0;32mfiona/ogrext.pyx:143\u001b[0m, in \u001b[0;36mfiona.ogrext.gdal_open_vector\u001b[0;34m()\u001b[0m\n",
      "\u001b[0;31mDriverError\u001b[0m: ../../data/geo/post_codes.geojson: No such file or directory"
     ]
    }
   ],
   "source": [
    "if __name__ == \"__main__\":\n",
    "    # ingest_data()\n",
    "\n",
    "    airbnb_cleaned = get_cleaned_df('../../data/airbnb.csv')\n",
    "    rentals_cleaned = get_cleaned_df('../../data/rentals.json')\n",
    "    rentals_rev = get_avg_rev(rentals_cleaned, 'avg_rev_rentals', 'rent')\n",
    "    airbnb_rev = get_avg_rev(airbnb_cleaned, 'avg_rev_airbnb', 'price')\n",
    "\n",
    "    all_avg_rev = rentals_rev.join(airbnb_rev, on = 'zipcode', how = 'fullouter')\n",
    "    all_avg_rev.show()\n"
   ]
  },
  {
   "cell_type": "code",
   "execution_count": 14,
   "metadata": {},
   "outputs": [
    {
     "name": "stdout",
     "output_type": "stream",
     "text": [
      "+--------------------+---------+---------------+-------+-----------+------------+-------+-----------------------+---------------------+---------+-------------+------+------+--------+----------------+--------+------------------+\n",
      "|                 _id|     city|  streetAddress|zipcode|energyLabel|propertyType|areaSqm|availability_start_date|availability_end_date|roommates|smokingInside|shower|toilet|    rent|registrationCost| deposit|additionalCostsRaw|\n",
      "+--------------------+---------+---------------+-------+-----------+------------+-------+-----------------------+---------------------+---------+-------------+------+------+--------+----------------+--------+------------------+\n",
      "|[5d6d914f536c18a6...|Amsterdam|Lijnbaansgracht| 1016VV|    Unknown|   Apartment|   58.0|             2019-10-01|           2020-10-01|     None|           No|   Own|   Own|1,800.00|            null|3,600.00|            200.00|\n",
      "+--------------------+---------+---------------+-------+-----------+------------+-------+-----------------------+---------------------+---------+-------------+------+------+--------+----------------+--------+------------------+\n",
      "\n"
     ]
    }
   ],
   "source": [
    "rentals_cleaned.where(rentals_cleaned.zipcode == '1016VV').show()"
   ]
  },
  {
   "cell_type": "code",
   "execution_count": 22,
   "metadata": {},
   "outputs": [
    {
     "name": "stdout",
     "output_type": "stream",
     "text": [
      "+-------------+------------+-------+-----------+-----------+---------------+------------+--------+------+-------------------+\n",
      "|     province|municipality|zipcode|   latitude|  longitude|      room_type|accommodates|bedrooms| price|review_scores_value|\n",
      "+-------------+------------+-------+-----------+-----------+---------------+------------+--------+------+-------------------+\n",
      "|Noord-Holland|   Amsterdam|   ....|52.35386684|4.920099042|Entire home/apt|           4|       2| 69.00|                 90|\n",
      "|Noord-Holland|   Amsterdam|`1055tk|52.37794605|4.858864841|Entire home/apt|           2|       1| 95.00|               null|\n",
      "|Noord-Holland|   Amsterdam|       |52.37699446|4.878464646|Entire home/apt|           4|       2|149.00|               null|\n",
      "+-------------+------------+-------+-----------+-----------+---------------+------------+--------+------+-------------------+\n",
      "\n"
     ]
    }
   ],
   "source": [
    "pattern = r'^[a-zA-Z0-9]+$'\n",
    "\n",
    "# Filter out rows where zipcode matches the alphanumeric pattern\n",
    "df = airbnb_cleaned.filter(~F.col('zipcode').rlike(pattern))\n",
    "df.show()"
   ]
  },
  {
   "cell_type": "code",
   "execution_count": null,
   "metadata": {},
   "outputs": [],
   "source": []
  },
  {
   "cell_type": "code",
   "execution_count": 13,
   "metadata": {},
   "outputs": [
    {
     "name": "stdout",
     "output_type": "stream",
     "text": [
      "+-------+---------------+\n",
      "|zipcode|avg_rev_rentals|\n",
      "+-------+---------------+\n",
      "| 1016VV|         1800.0|\n",
      "+-------+---------------+\n",
      "\n"
     ]
    },
    {
     "name": "stderr",
     "output_type": "stream",
     "text": [
      "                                                                                \r"
     ]
    }
   ],
   "source": [
    "actual_rent_col = 'rent'\n",
    "test = rentals_cleaned.withColumn(actual_rent_col, regexp_replace(actual_rent_col, \",\", \"\").cast(\"float\"))\n",
    "test = test.groupBy('zipcode').agg(F.avg('rent').alias('avg_rev_rentals'))\n",
    "test.where(test.zipcode == '1016VV').show()\n"
   ]
  },
  {
   "cell_type": "code",
   "execution_count": 13,
   "metadata": {},
   "outputs": [
    {
     "name": "stdout",
     "output_type": "stream",
     "text": [
      "+-------------+------------+-------+-----------+-----------+---------------+------------+--------+------+-------------------+\n",
      "|     province|municipality|zipcode|   latitude|  longitude|      room_type|accommodates|bedrooms| price|review_scores_value|\n",
      "+-------------+------------+-------+-----------+-----------+---------------+------------+--------+------+-------------------+\n",
      "|Noord-Holland|   Amsterdam|   1053|52.37302064|4.868460923|Entire home/apt|           4|       2|130.00|                100|\n",
      "|Noord-Holland|   Amsterdam|   1095|52.36575451|4.941419235|   Private room|           2|       1| 59.00|                100|\n",
      "|Noord-Holland|   Amsterdam|   1053|52.36938767|4.866972319|Entire home/apt|           4|       1| 95.00|                 90|\n",
      "|Noord-Holland|   Amsterdam|   1017|52.36190508|4.888050037|Entire home/apt|           2|       1|100.00|                100|\n",
      "|Noord-Holland|   Amsterdam| 1016AM|52.37153345|4.887057291|Entire home/apt|           6|       2|250.00|                 60|\n",
      "|Noord-Holland|   Amsterdam| 1016AM| 52.3713592|4.888072287|   Private room|           4|       1|140.00|               null|\n",
      "|Noord-Holland|   Amsterdam| 1016AM| 52.3704458|4.889069478|   Private room|           2|       1|115.00|                 90|\n",
      "|Noord-Holland|   Amsterdam| 1071VV|52.35564811|4.885834819|   Private room|           2|       1| 80.00|                 90|\n",
      "|Noord-Holland|   Amsterdam|   1078|52.34591098|4.891982605|   Private room|           3|       1| 80.00|                 90|\n",
      "|Noord-Holland|   Amsterdam|   1015|52.37935439|4.883276386|Entire home/apt|           2|       1| 90.00|                 90|\n",
      "|Noord-Holland|   Amsterdam|   1072|52.35748276|4.887099593|Entire home/apt|           3|       2|100.00|                100|\n",
      "|Noord-Holland|   Amsterdam| 1056TM|  52.371207|4.857291017|Entire home/apt|           3|       2| 95.00|                100|\n",
      "|Noord-Holland|   Amsterdam| 1011JX|52.36959599|4.899069358|Entire home/apt|           2|       1|145.00|                 90|\n",
      "|Noord-Holland|   Amsterdam|   1013|52.37801663|4.892703442|Entire home/apt|           3|       1|132.00|                 90|\n",
      "|Noord-Holland|   Amsterdam| 1055XP|52.38141023|4.852742701|Entire home/apt|           2|       1| 79.00|                100|\n",
      "|Noord-Holland|   Amsterdam|   1013|52.38029988|4.885143665|Entire home/apt|           4|       0|180.00|                 90|\n",
      "|Noord-Holland|   Amsterdam| 1013HE|52.38147315|4.886809875|    Shared room|           1|       1| 75.00|                100|\n",
      "|Noord-Holland|   Amsterdam|   1053|52.36761407|4.866895471|   Private room|           2|       1| 82.00|                100|\n",
      "|Noord-Holland|   Amsterdam|   1059|52.34658737| 4.84919711|   Private room|           2|       1| 59.00|                 90|\n",
      "|Noord-Holland|   Amsterdam| 1097AM| 52.3534049| 4.92442006|Entire home/apt|           2|       1| 99.00|               null|\n",
      "+-------------+------------+-------+-----------+-----------+---------------+------------+--------+------+-------------------+\n",
      "only showing top 20 rows\n",
      "\n"
     ]
    }
   ],
   "source": [
    "# airbnb_cleaned.show()\n",
    "airbnb_cleaned.dropna(subset=['zipcode']).show()"
   ]
  },
  {
   "cell_type": "code",
   "execution_count": 5,
   "metadata": {},
   "outputs": [
    {
     "name": "stderr",
     "output_type": "stream",
     "text": [
      "                                                                                \r"
     ]
    },
    {
     "name": "stdout",
     "output_type": "stream",
     "text": [
      "+-------+---------------+--------------+\n",
      "|zipcode|avg_rev_rentals|avg_rev_airbnb|\n",
      "+-------+---------------+--------------+\n",
      "| 1054AP|       1,972.22|        212.00|\n",
      "| 1017RD|         700.00|        196.25|\n",
      "| 1016AM|       1,000.00|        168.33|\n",
      "| 1055ZT|         800.00|         70.33|\n",
      "| 1103LH|       1,500.00|         44.00|\n",
      "| 1017AA|         875.00|        217.00|\n",
      "| 1051GT|       1,300.00|        190.00|\n",
      "| 1013BX|       1,750.00|        136.33|\n",
      "| 1095ER|       1,300.00|         85.00|\n",
      "| 1019HD|       1,046.43|         99.00|\n",
      "| 1094EG|       1,787.50|         89.00|\n",
      "| 1016HG|       1,975.00|        183.50|\n",
      "| 1072PJ|         912.50|        150.00|\n",
      "| 1015JM|         900.00|        260.00|\n",
      "| 1013HE|         900.00|         66.67|\n",
      "| 1052JL|       1,750.00|         73.00|\n",
      "| 1013HA|       1,750.00|        181.00|\n",
      "| 1052LL|       1,800.00|        103.00|\n",
      "| 1056XE|       1,428.33|         92.50|\n",
      "| 1073GG|       1,056.67|        200.00|\n",
      "+-------+---------------+--------------+\n",
      "only showing top 20 rows\n",
      "\n"
     ]
    }
   ],
   "source": [
    "# from pyspark.sql.functions import col, regexp_extract, round, regexp_replace, format_number, avg\n",
    "# def get_avg_rev(df, rev_col_name, actual_rent_col):\n",
    "#     df = df.withColumn(actual_rent_col, regexp_replace(actual_rent_col, \",\", \"\").cast(\"float\"))\n",
    "#     avg_rev = df.groupBy('zipcode').agg(avg(actual_rent_col).alias(rev_col_name))\n",
    "#     avg_rev = avg_rev.withColumn(rev_col_name, round(col(rev_col_name), 2))\\\n",
    "#         .withColumn(rev_col_name, format_number(rev_col_name,2))\n",
    "#     return avg_rev\n",
    "rentals_rev = get_avg_rev(rentals_cleaned, 'avg_rev_rentals', 'rent')\n",
    "airbnb_rev = get_avg_rev(airbnb_cleaned, 'avg_rev_airbnb', 'price')\n",
    "\n",
    "all_avg_rev = rentals_rev.join(airbnb_rev, on = 'zipcode')\n",
    "all_avg_rev.show()"
   ]
  },
  {
   "cell_type": "code",
   "execution_count": 26,
   "metadata": {},
   "outputs": [
    {
     "name": "stderr",
     "output_type": "stream",
     "text": [
      "[Stage 15:=================================>                       (7 + 5) / 12]\r"
     ]
    },
    {
     "name": "stdout",
     "output_type": "stream",
     "text": [
      "+-------+--------------+\n",
      "|zipcode|avg_rev_airbnb|\n",
      "+-------+--------------+\n",
      "| 1054AP|        212.00|\n",
      "| 1017RD|        196.25|\n",
      "| 1013WJ|        129.00|\n",
      "| 1011TW|        125.00|\n",
      "| 1019HN|        120.00|\n",
      "| 1016AM|        168.33|\n",
      "| 1058EP|        130.00|\n",
      "| 1055ZT|         70.33|\n",
      "| 1103LH|         44.00|\n",
      "| 1015DC|        168.00|\n",
      "| 1012BN|        129.00|\n",
      "| 1016XR|        135.00|\n",
      "| 1017AA|        217.00|\n",
      "| 1055TE|        104.50|\n",
      "| 1015GN|        125.83|\n",
      "| 1012da|        160.00|\n",
      "|   1093|        181.69|\n",
      "| 1011KW|        119.00|\n",
      "| 1058TP|         75.00|\n",
      "| 1071ER|        322.00|\n",
      "+-------+--------------+\n",
      "only showing top 20 rows\n",
      "\n"
     ]
    },
    {
     "name": "stderr",
     "output_type": "stream",
     "text": [
      "                                                                                \r"
     ]
    }
   ],
   "source": [
    "airbnb_rev.show()"
   ]
  },
  {
   "cell_type": "code",
   "execution_count": 16,
   "metadata": {},
   "outputs": [
    {
     "name": "stderr",
     "output_type": "stream",
     "text": [
      "[Stage 6:======================================>                   (8 + 4) / 12]\r"
     ]
    },
    {
     "name": "stdout",
     "output_type": "stream",
     "text": [
      "+-------+------------------+\n",
      "|zipcode|        avg(price)|\n",
      "+-------+------------------+\n",
      "| 1054AP|             212.0|\n",
      "| 1017RD|            196.25|\n",
      "| 1013WJ|             129.0|\n",
      "| 1011TW|             125.0|\n",
      "| 1019HN|             120.0|\n",
      "| 1016AM|168.33333333333334|\n",
      "| 1058EP|             130.0|\n",
      "| 1055ZT| 70.33333333333333|\n",
      "| 1103LH|              44.0|\n",
      "| 1015DC|             168.0|\n",
      "| 1012BN|             129.0|\n",
      "| 1016XR|             135.0|\n",
      "| 1017AA|             217.0|\n",
      "| 1055TE|             104.5|\n",
      "| 1015GN|125.83333333333333|\n",
      "| 1012da|             160.0|\n",
      "|   1093|          181.6875|\n",
      "| 1011KW|             119.0|\n",
      "| 1058TP|              75.0|\n",
      "| 1071ER|             322.0|\n",
      "+-------+------------------+\n",
      "only showing top 20 rows\n",
      "\n"
     ]
    },
    {
     "name": "stderr",
     "output_type": "stream",
     "text": [
      "                                                                                \r"
     ]
    }
   ],
   "source": [
    "airbnb_rev.show()"
   ]
  },
  {
   "cell_type": "code",
   "execution_count": 4,
   "metadata": {},
   "outputs": [
    {
     "name": "stdout",
     "output_type": "stream",
     "text": [
      "+--------------------+-------------------+--------------------+-----------+------------+-------+-----------------------+---------------------+---------+-------------+------+------+--------+----------------+--------+------------------+\n",
      "|                 _id|               city|       streetAddress|energyLabel|propertyType|areaSqm|availability_start_date|availability_end_date|roommates|smokingInside|shower|toilet|    rent|registrationCost| deposit|additionalCostsRaw|\n",
      "+--------------------+-------------------+--------------------+-----------+------------+-------+-----------------------+---------------------+---------+-------------+------+------+--------+----------------+--------+------------------+\n",
      "|[5d2b113a43cbfd7c...|          Rotterdam|West-Varkenoordseweg|    Unknown|        Room|   14.0|             2019-06-26|                 null|        5|           No|Shared|Shared|  500.00|            0.00|  500.00|             50.00|\n",
      "|[5d2b113a43cbfd7c...|          Amsterdam|         Parelstraat|    Unknown|      Studio|   30.0|             2019-08-15|                 null|     None|           No|   Own|   Own|  950.00|            0.00|  895.00|              0.00|\n",
      "|[5d2b113a43cbfd7c...|          Amsterdam|          Zeilstraat|    Unknown|        Room|   11.0|             2019-08-01|                 null|        1|          Yes|Shared|Shared|1,000.00|            null|1,000.00|              null|\n",
      "|[5d2b113a43cbfd7c...|              Assen|         Ruiterakker|    Unknown|        Room|   16.0|             2019-06-16|                 null|        4|          Yes|Shared|Shared|  290.00|            null|  290.00|              null|\n",
      "|[5d2b113b43cbfd7c...|          Rotterdam|     Zwart Janstraat|    Unknown|        Room|   22.0|             2019-08-01|                 null|        1|           No|Shared|Shared|  475.00|            null|  500.00|              null|\n",
      "|[5d2b113b43cbfd7c...|          Groningen|Nieuwe Kijk in 't...|    Unknown|        Room|   14.0|             2019-08-01|                 null|        4|Not important|Shared|Shared|  340.00|           55.00|  340.00|             18.00|\n",
      "|[5d2b113b43cbfd7c...|              Zeist|      Wilhelminalaan|    Unknown|        Room|   22.0|             2019-08-01|                 null|        7|           No|Shared|Shared|  615.00|            null|  615.00|              null|\n",
      "|[5d2b113b43cbfd7c...|          Rotterdam|     Willem Ruyslaan|    Unknown|        Room|   17.0|             2019-09-01|           2020-08-31|     None|           No|   Own|   Own|  857.00|            null|  857.00|              null|\n",
      "|[5d2b113b43cbfd7c...|         Maastricht|        Brusselseweg|    Unknown|        Room|   16.0|             2019-07-15|                 null|        4|           No|Shared|Shared|  425.00|           25.00|  425.00|              null|\n",
      "|[5d2b113c43cbfd7c...|        Callantsoog|          De Riethof|    Unknown|        Room|   20.0|             2019-08-15|                 null|        3|          Yes|   Own|   Own|  375.00|            0.00|  375.00|              null|\n",
      "|[5d2b113c43cbfd7c...|          Rotterdam|   Donkerslootstraat|          D|        Room|   25.0|             2019-08-01|                 null|        4|           No|Shared|Shared|  600.00|            0.00|1,200.00|              null|\n",
      "|[5d2b113c43cbfd7c...|          Amsterdam|     Wouwermanstraat|    Unknown|   Apartment|   60.0|             2019-08-01|           2020-08-01|     None|           No|   Own|   Own|1,590.00|            null|1,590.00|              null|\n",
      "|[5d2b113c43cbfd7c...|Alphen aan den Rijn|  Vorselenburgstraat|    Unknown|        Room|   10.0|             2019-07-08|                 null|        3|          Yes|Shared|Shared|  425.00|            null|  425.00|              null|\n",
      "|[5d2b113c43cbfd7c...|            Tilburg|       Armhoefstraat|          D|        Room|   14.0|             2019-06-26|                 null|        1|           No|Shared|Shared|  275.00|            null|  275.00|              null|\n",
      "|[5d2b113c43cbfd7c...|          Rotterdam|         Strevelsweg|    Unknown|        Room|   22.0|             2019-06-28|                 null|        1|          Yes|Shared|Shared|  500.00|            null|1,000.00|              null|\n",
      "|[5d2b113c43cbfd7c...|          Rotterdam|         Strevelsweg|    Unknown|        Room|   20.0|             2019-06-28|                 null|        1|          Yes|Shared|Shared|  485.00|            null|  970.00|              null|\n",
      "|[5d2b113d43cbfd7c...|          Rotterdam|    Boergoensestraat|    Unknown|        Room|   25.0|             2019-07-08|                 null|        2|           No|Shared|Shared|  550.00|            null|1,100.00|              null|\n",
      "|[5d2b113d43cbfd7c...|          Amsterdam|          Groenhoven|          C|        Room|   19.0|             2019-08-01|                 null|        3|           No|Shared|Shared|  750.00|            null|1,500.00|              null|\n",
      "|[5d2b114743cbfd7c...|           Enschede|        Noorderhagen|    Unknown|        Room|   21.0|             2019-07-22|                 null|        8|           No|Shared|Shared|  240.00|            null|    null|              null|\n",
      "|[5d2b114743cbfd7c...|          Rotterdam|     Jaersveltstraat|    Unknown|        Room|   16.0|             2019-08-01|                 null|        2|           No|Shared|Shared|  500.00|            null|    null|              null|\n",
      "+--------------------+-------------------+--------------------+-----------+------------+-------+-----------------------+---------------------+---------+-------------+------+------+--------+----------------+--------+------------------+\n",
      "only showing top 20 rows\n",
      "\n"
     ]
    },
    {
     "name": "stderr",
     "output_type": "stream",
     "text": [
      "                                                                                \r"
     ]
    }
   ],
   "source": [
    "rentals_cleaned.show()\n",
    "# airbnb_cleaned.show()\n",
    "# airbnb.select(\"review_scores_value\").distinct().orderBy('review_scores_value').show()"
   ]
  },
  {
   "cell_type": "code",
   "execution_count": null,
   "metadata": {},
   "outputs": [
    {
     "name": "stderr",
     "output_type": "stream",
     "text": [
      "24/11/01 16:31:37 WARN Utils: Your hostname, PC05775 resolves to a loopback address: 127.0.1.1; using 172.21.36.156 instead (on interface eth0)\n",
      "24/11/01 16:31:37 WARN Utils: Set SPARK_LOCAL_IP if you need to bind to another address\n",
      "Setting default log level to \"WARN\".\n",
      "To adjust logging level use sc.setLogLevel(newLevel). For SparkR, use setLogLevel(newLevel).\n",
      "24/11/01 16:31:38 WARN NativeCodeLoader: Unable to load native-hadoop library for your platform... using builtin-java classes where applicable\n",
      "/home/jiayin/.local/lib/python3.8/site-packages/pandas/core/dtypes/cast.py:130: ShapelyDeprecationWarning: The array interface is deprecated and will no longer work in Shapely 2.0. Convert the '.coords' to a numpy array instead.\n",
      "  arr = construct_1d_object_array_from_listlike(values)\n",
      "                                                                                \r"
     ]
    },
    {
     "name": "stdout",
     "output_type": "stream",
     "text": [
      "+-------+----------------+---------------+\n",
      "|zipcode|avg_rent_rentals|avg_rent_airbnb|\n",
      "+-------+----------------+---------------+\n",
      "| 1054AP|        1,972.22|         212.00|\n",
      "| 1017RD|          700.00|         196.25|\n",
      "| 1016AM|        1,000.00|         168.33|\n",
      "| 1055ZT|          800.00|          70.33|\n",
      "| 1103LH|        1,500.00|          44.00|\n",
      "| 1017AA|          875.00|         217.00|\n",
      "| 1051GT|        1,300.00|         190.00|\n",
      "| 1013BX|        1,750.00|         136.33|\n",
      "| 1095ER|        1,300.00|          85.00|\n",
      "| 1019HD|        1,046.43|          99.00|\n",
      "| 1094EG|        1,787.50|          89.00|\n",
      "| 1016HG|        1,975.00|         183.50|\n",
      "| 1072PJ|          912.50|         150.00|\n",
      "| 1015JM|          900.00|         260.00|\n",
      "| 1013HE|          900.00|          66.67|\n",
      "| 1052JL|        1,750.00|          73.00|\n",
      "| 1013HA|        1,750.00|         181.00|\n",
      "| 1052LL|        1,800.00|         103.00|\n",
      "| 1056XE|        1,428.33|          92.50|\n",
      "| 1073GG|        1,056.67|         200.00|\n",
      "+-------+----------------+---------------+\n",
      "only showing top 20 rows\n",
      "\n"
     ]
    }
   ],
   "source": [
    "if __name__ == \"__main__\":\n",
    "    ingest_data()\n",
    "    spark = create_spark_session()\n",
    "    \n",
    "    airbnb_df = get_df('../../data/airbnb.csv', spark)\n",
    "    rentals_df = get_df('../../data/rentals.json', spark)\n",
    "    \n",
    "    rentals_cleaned= get_cleaned_df(rentals_df, 'rent', 'postalCode')\n",
    "    airbnb_cleaned= get_cleaned_df(airbnb_df, 'price', 'zipcodeEnhanced')\n",
    "    \n",
    "    rentals_rent = get_avg_rent(rentals_cleaned, 'avg_rent_rentals')\n",
    "    airbnb_rent = get_avg_rent(airbnb_cleaned, 'avg_rent_airbnb')\n",
    "    \n",
    "    all_avg_rent = rentals_rent.join(airbnb_rent, on = 'zipcode')\n",
    "    all_avg_rent.show()\n",
    "    # spark.stop()"
   ]
  },
  {
   "cell_type": "code",
   "execution_count": 63,
   "metadata": {},
   "outputs": [
    {
     "name": "stderr",
     "output_type": "stream",
     "text": [
      "                                                                                \r"
     ]
    },
    {
     "name": "stdout",
     "output_type": "stream",
     "text": [
      "+-------+----------------+---------------+\n",
      "|zipcode|avg_rent_rentals|avg_rent_airbnb|\n",
      "+-------+----------------+---------------+\n",
      "| 1016VV|        1,800.00|         150.00|\n",
      "| 1017NL|        1,500.00|         117.25|\n",
      "| 1069TD|        1,486.25|          50.00|\n",
      "| 1018GD|        1,850.00|          80.00|\n",
      "| 1011EJ|          825.00|         155.00|\n",
      "| 1074JA|        1,950.00|         225.00|\n",
      "| 1054AP|        1,972.22|         212.00|\n",
      "| 1097AH|          568.00|         160.00|\n",
      "| 1078TZ|          570.00|          95.00|\n",
      "| 1057JS|          250.00|         130.00|\n",
      "| 1073VZ|        1,056.25|         230.00|\n",
      "| 1094HW|        2,000.00|         100.00|\n",
      "| 1052HV|          700.00|          82.00|\n",
      "| 1017RD|          700.00|         196.25|\n",
      "| 1071MH|        1,950.00|         107.00|\n",
      "| 1065TR|        1,416.67|          60.00|\n",
      "| 1076CW|          700.00|         136.00|\n",
      "| 1016AM|        1,000.00|         168.33|\n",
      "| 1055NH|          575.00|          65.00|\n",
      "| 1058HD|          855.00|          99.00|\n",
      "+-------+----------------+---------------+\n",
      "only showing top 20 rows\n",
      "\n"
     ]
    }
   ],
   "source": [
    "all_avg_rent.show()"
   ]
  },
  {
   "cell_type": "code",
   "execution_count": null,
   "metadata": {},
   "outputs": [],
   "source": []
  }
 ],
 "metadata": {
  "kernelspec": {
   "display_name": "Python 3",
   "language": "python",
   "name": "python3"
  },
  "language_info": {
   "codemirror_mode": {
    "name": "ipython",
    "version": 3
   },
   "file_extension": ".py",
   "mimetype": "text/x-python",
   "name": "python",
   "nbconvert_exporter": "python",
   "pygments_lexer": "ipython3",
   "version": "3.8.10"
  }
 },
 "nbformat": 4,
 "nbformat_minor": 2
}
